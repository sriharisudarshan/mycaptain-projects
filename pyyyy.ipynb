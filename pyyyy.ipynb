{
 "cells": [
  {
   "cell_type": "markdown",
   "metadata": {},
   "source": [
    "###### assigning values to different list\n"
   ]
  },
  {
   "cell_type": "code",
   "execution_count": 3,
   "metadata": {},
   "outputs": [
    {
     "name": "stdout",
     "output_type": "stream",
     "text": [
      "enter a number to assign to list or fullstop to terminate the program2\n",
      "enter a number to assign to list or fullstop to terminate the program3\n",
      "enter a number to assign to list or fullstop to terminate the program4\n",
      "enter a number to assign to list or fullstop to terminate the program5\n",
      "enter a number to assign to list or fullstop to terminate the program6\n",
      "enter a number to assign to list or fullstop to terminate the program.\n",
      "even list:  ['2', '4', '6']\n",
      "odd list:  ['3', '5']\n"
     ]
    }
   ],
   "source": [
    "#odd and even numbers to different list\n",
    "a=[]#to store odd\n",
    "b=[]#to store even\n",
    "\n",
    "f=True\n",
    "while (f):\n",
    "    val=input(\"enter a number to assign to list or fullstop to terminate the program\")\n",
    "    if(val==\".\"):\n",
    "        f=False\n",
    "        break\n",
    "    else:\n",
    "        if(int (val)%2==0):\n",
    "            b.append(val)\n",
    "        else:\n",
    "            a.append(val)\n",
    "print(\"even list: \",b)\n",
    "print(\"odd list: \",a)\n",
    "\n"
   ]
  },
  {
   "cell_type": "markdown",
   "metadata": {},
   "source": [
    "##### accessing elements of the tuple"
   ]
  },
  {
   "cell_type": "code",
   "execution_count": 6,
   "metadata": {},
   "outputs": [
    {
     "name": "stdout",
     "output_type": "stream",
     "text": [
      "enter a number to assign to tuples or fullstop to terminate the program2\n",
      "enter a number to assign to tuples or fullstop to terminate the program3\n",
      "enter a number to assign to tuples or fullstop to terminate the program4\n",
      "enter a number to assign to tuples or fullstop to terminate the program5\n",
      "enter a number to assign to tuples or fullstop to terminate the program.\n",
      "enter a number to be multiplied:7\n",
      "2 * 7 = 14\n",
      "3 * 7 = 21\n",
      "4 * 7 = 28\n",
      "5 * 7 = 35\n"
     ]
    }
   ],
   "source": [
    "a=[]\n",
    "f=True\n",
    "while(f):\n",
    "    val=input(\"enter a number to assign to tuples or fullstop to terminate the program\")\n",
    "    if(val==\".\"):\n",
    "        f=False\n",
    "        break\n",
    "    else:\n",
    "        a.append(int(val))\n",
    "b=tuple(a)\n",
    "c=int(input(\"enter a number to be multiplied:\"))\n",
    "for i in b:\n",
    "    print(i,\"*\",c,\"=\",i*c)\n",
    "    \n",
    "        \n",
    "\n"
   ]
  },
  {
   "cell_type": "markdown",
   "metadata": {},
   "source": [
    " ##### deleting elements of dictionary"
   ]
  },
  {
   "cell_type": "code",
   "execution_count": 9,
   "metadata": {},
   "outputs": [
    {
     "name": "stdout",
     "output_type": "stream",
     "text": [
      "enter the range: 3\n",
      "enter key: 1\n",
      "enter value: python\n",
      "enter key: 2\n",
      "enter value: c\n",
      "enter key: 3\n",
      "enter value: c++\n",
      "enter the key to be deleted2\n",
      "{'1': 'python', '3': 'c++'}\n"
     ]
    }
   ],
   "source": [
    "a={}\n",
    "n=int(input(\"enter the range: \"))\n",
    "for i in range (n):\n",
    "    k=input(\"enter key: \")\n",
    "    a[k]=input(\"enter value: \")\n",
    "key=input(\"enter the key to be deleted\")\n",
    "if key in a.keys():\n",
    "    del a[key]\n",
    "    print(a)\n",
    "else:\n",
    "    print(\"key not found\")"
   ]
  },
  {
   "cell_type": "code",
   "execution_count": null,
   "metadata": {},
   "outputs": [],
   "source": []
  }
 ],
 "metadata": {
  "kernelspec": {
   "display_name": "Python 3",
   "language": "python",
   "name": "python3"
  },
  "language_info": {
   "codemirror_mode": {
    "name": "ipython",
    "version": 3
   },
   "file_extension": ".py",
   "mimetype": "text/x-python",
   "name": "python",
   "nbconvert_exporter": "python",
   "pygments_lexer": "ipython3",
   "version": "3.7.4"
  }
 },
 "nbformat": 4,
 "nbformat_minor": 2
}
